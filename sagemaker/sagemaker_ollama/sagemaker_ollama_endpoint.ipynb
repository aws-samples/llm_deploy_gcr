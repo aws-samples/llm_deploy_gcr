{
 "cells": [
  {
   "cell_type": "markdown",
   "metadata": {
    "tags": []
   },
   "source": [
    "# SageMaker Ollama endpoint example"
   ]
  },
  {
   "cell_type": "markdown",
   "metadata": {
    "tags": []
   },
   "source": [
    "## 1. Prerequisites\n",
    "\n",
    "The byoc will build and store a endpoint docker image in you ECR private repo (for example `sagemaker_endpoint/ollama`), you need to define the following variables."
   ]
  },
  {
   "cell_type": "code",
   "execution_count": null,
   "metadata": {
    "tags": []
   },
   "outputs": [],
   "source": [
    "import os\n",
    "\n",
    "MODEL_ID = \"qwen3:0.6b\"\n",
    "INSTANCE_TYPE = \"ml.c7g.4xlarge\"\n",
    "ARCHITECTURE = \"arm64\"\n",
    "\n",
    "INSTANCE_TYPE = \"ml.c7i.4xlarge\"\n",
    "INSTANCE_TYPE = \"ml.g5.2xlarge\"\n",
    "\n",
    "ARCHITECTURE = \"x86_64\"\n",
    "\n",
    "REPO_TAG = \"0.12.5\"\n",
    "REPO_NAMESPACE = \"sagemaker_endpoint/ollama-\" + ARCHITECTURE\n",
    "\n",
    "ACCOUNT = !aws sts get-caller-identity --query Account --output text\n",
    "REGION = !aws configure get region\n",
    "REGION = REGION[0] if REGION else os.environ.get(\"AWS_REGION\")\n",
    "\n",
    "ACCOUNT = ACCOUNT[0]\n",
    "\n",
    "\n",
    "ARTIFACTS_PREFIX = \"ollama\"\n",
    "\n",
    "CONTAINER = f\"{ACCOUNT}.dkr.ecr.{REGION}.amazonaws.com/{REPO_NAMESPACE}:{REPO_TAG}\"\n",
    "print(CONTAINER)"
   ]
  },
  {
   "cell_type": "code",
   "execution_count": null,
   "metadata": {},
   "outputs": [],
   "source": [
    "%pip install -U sagemaker"
   ]
  },
  {
   "cell_type": "code",
   "execution_count": null,
   "metadata": {},
   "outputs": [],
   "source": [
    "import os\n",
    "import re\n",
    "import json\n",
    "from datetime import datetime\n",
    "import time\n",
    "\n",
    "import boto3\n",
    "import sagemaker\n",
    "\n",
    "role = sagemaker.get_execution_role()\n",
    "\n",
    "sagemaker_client = boto3.client(\"sagemaker\")\n",
    "\n",
    "print(\"Your execution role details page:\")\n",
    "print(f\"https://us-east-1.console.aws.amazon.com/iam/home?#/roles/details/{role.split('/')[-1]}\")"
   ]
  },
  {
   "cell_type": "markdown",
   "metadata": {
    "execution": {
     "iopub.execute_input": "2025-10-15T03:15:38.307100Z",
     "iopub.status.busy": "2025-10-15T03:15:38.306866Z",
     "iopub.status.idle": "2025-10-15T03:15:38.310837Z",
     "shell.execute_reply": "2025-10-15T03:15:38.310495Z",
     "shell.execute_reply.started": "2025-10-15T03:15:38.307084Z"
    },
    "jp-MarkdownHeadingCollapsed": true
   },
   "source": [
    "This build needs CodeBuild service, you need to make sure your ExecutionRole contains sufficient permissions.\n",
    "\n",
    "Here is an example policy you can put into your role in the above role details page:\n",
    "##### role policy:"
   ]
  },
  {
   "cell_type": "markdown",
   "metadata": {},
   "source": [
    "``` json\n",
    "{\n",
    "    \"Version\": \"2012-10-17\",\n",
    "    \"Statement\": [\n",
    "        {\n",
    "            \"Effect\": \"Allow\",\n",
    "            \"Action\": [\n",
    "                \"iam:CreateRole\",\n",
    "                \"iam:GetRole\",\n",
    "                \"iam:PutRolePolicy\",\n",
    "                \"iam:PassRole\"\n",
    "            ],\n",
    "            \"Resource\": [\n",
    "                \"arn:aws:iam::*:role/CodeBuildServiceRole-*\"\n",
    "            ]\n",
    "        },\n",
    "        {\n",
    "            \"Effect\": \"Allow\",\n",
    "            \"Action\": [\n",
    "                \"codebuild:CreateProject\",\n",
    "                \"codebuild:UpdateProject\",\n",
    "                \"codebuild:BatchGetProjects\",\n",
    "                \"codebuild:StartBuild\"\n",
    "            ],\n",
    "            \"Resource\": \"*\"\n",
    "        },\n",
    "        {\n",
    "            \"Effect\": \"Allow\",\n",
    "            \"Action\": [\n",
    "                \"s3:CreateBucket\",\n",
    "                \"s3:ListBucket\",\n",
    "                \"s3:PutObject\",\n",
    "                \"s3:GetObject\"\n",
    "            ],\n",
    "            \"Resource\": [\n",
    "                \"arn:aws:s3:::sagemaker-*\",\n",
    "                \"arn:aws:s3:::sagemaker-*/*\"\n",
    "            ]\n",
    "        },\n",
    "        {\n",
    "            \"Effect\": \"Allow\",\n",
    "            \"Action\": [\n",
    "                \"sts:GetCallerIdentity\"\n",
    "            ],\n",
    "            \"Resource\": \"*\"\n",
    "        }\n",
    "    ]\n",
    "}\n",
    "```"
   ]
  },
  {
   "cell_type": "markdown",
   "metadata": {},
   "source": [
    "## 2. Build the container\n",
    "\n",
    "Endpoint starting codes are in `app/`. The script will build and push to ecr. \n",
    "\n",
    "**The docker only need to be built once**, and after that, when deploying other endpoints, the same docker image can be shared."
   ]
  },
  {
   "cell_type": "code",
   "execution_count": null,
   "metadata": {
    "scrolled": true,
    "tags": []
   },
   "outputs": [],
   "source": [
    "cmd = f\"REPO_NAMESPACE={REPO_NAMESPACE} REPO_TAG={REPO_TAG} ARCHITECTURE={ARCHITECTURE} ./build-deploy.sh\"\n",
    "print(\"Runging:\\n\", cmd)\n",
    "!{cmd}"
   ]
  },
  {
   "cell_type": "markdown",
   "metadata": {},
   "source": [
    "## 3. Deploy on SageMaker\n",
    "\n",
    "Define the model and deploy on SageMaker\n"
   ]
  },
  {
   "cell_type": "markdown",
   "metadata": {
    "execution": {
     "iopub.execute_input": "2025-10-15T03:28:27.379810Z",
     "iopub.status.busy": "2025-10-15T03:28:27.379531Z",
     "iopub.status.idle": "2025-10-15T03:28:27.382894Z",
     "shell.execute_reply": "2025-10-15T03:28:27.382209Z",
     "shell.execute_reply.started": "2025-10-15T03:28:27.379792Z"
    }
   },
   "source": [
    "### 3.1. create model"
   ]
  },
  {
   "cell_type": "code",
   "execution_count": null,
   "metadata": {
    "tags": []
   },
   "outputs": [],
   "source": [
    "model_name = f\"{MODEL_ID}--{INSTANCE_TYPE}\".replace(\"/\", \"-\").replace(\".\", \"-\").replace(\":\", \"-\")\n",
    "\n",
    "endpoint_model_name = sagemaker.utils.name_from_base(ARTIFACTS_PREFIX + \"-\" + model_name, short=True)\n",
    "\n",
    "create_model_response = sagemaker_client.create_model(\n",
    "    ModelName=endpoint_model_name,\n",
    "    ExecutionRoleArn=role,\n",
    "    PrimaryContainer={\n",
    "        \"Image\": CONTAINER,\n",
    "        \"Environment\": {\n",
    "            \"OLLAMA_MODEL_ID\": MODEL_ID,\n",
    "            \"OLLAMA_NUM_PARALLEL\": \"4\",\n",
    "        },\n",
    "    },\n",
    ")\n",
    "print(create_model_response)\n",
    "print(\"endpoint_model_name:\", endpoint_model_name)"
   ]
  },
  {
   "cell_type": "markdown",
   "metadata": {
    "execution": {
     "iopub.execute_input": "2025-10-15T03:29:02.433117Z",
     "iopub.status.busy": "2025-10-15T03:29:02.432852Z",
     "iopub.status.idle": "2025-10-15T03:29:02.435827Z",
     "shell.execute_reply": "2025-10-15T03:29:02.435223Z",
     "shell.execute_reply.started": "2025-10-15T03:29:02.433096Z"
    }
   },
   "source": [
    "### 3.2. create endpoint config"
   ]
  },
  {
   "cell_type": "code",
   "execution_count": null,
   "metadata": {
    "tags": []
   },
   "outputs": [],
   "source": [
    "endpoint_config_name = sagemaker.utils.name_from_base(ARTIFACTS_PREFIX + \"-\" + model_name, short=True)\n",
    "\n",
    "endpoint_config_response = sagemaker_client.create_endpoint_config(\n",
    "    EndpointConfigName=endpoint_config_name,\n",
    "    ProductionVariants=[\n",
    "        {\n",
    "            \"VariantName\": \"Variant1\",\n",
    "            \"ModelName\": endpoint_model_name,\n",
    "            \"InstanceType\": INSTANCE_TYPE,\n",
    "            \"InitialInstanceCount\": 1,\n",
    "            \"ContainerStartupHealthCheckTimeoutInSeconds\": 1200,\n",
    "        },\n",
    "    ],\n",
    ")\n",
    "print(endpoint_config_response)\n",
    "print(\"endpoint_config_name:\", endpoint_config_name)"
   ]
  },
  {
   "cell_type": "markdown",
   "metadata": {
    "execution": {
     "iopub.execute_input": "2025-10-15T03:29:30.437525Z",
     "iopub.status.busy": "2025-10-15T03:29:30.437304Z",
     "iopub.status.idle": "2025-10-15T03:29:30.440756Z",
     "shell.execute_reply": "2025-10-15T03:29:30.439717Z",
     "shell.execute_reply.started": "2025-10-15T03:29:30.437508Z"
    }
   },
   "source": [
    "### 3.3. create endpoint"
   ]
  },
  {
   "cell_type": "code",
   "execution_count": null,
   "metadata": {
    "scrolled": true,
    "tags": []
   },
   "outputs": [],
   "source": [
    "endpoint_name = sagemaker.utils.name_from_base(ARTIFACTS_PREFIX + \"-\" + model_name, short=True)\n",
    "\n",
    "create_endpoint_response = sagemaker_client.create_endpoint(\n",
    "    EndpointName=endpoint_name, EndpointConfigName=endpoint_config_name\n",
    ")\n",
    "print(create_endpoint_response)\n",
    "print(\"endpoint_config_name:\", endpoint_name)\n",
    "while 1:\n",
    "    status = sagemaker_client.describe_endpoint(EndpointName=endpoint_name)[\"EndpointStatus\"]\n",
    "    if status != \"Creating\":\n",
    "        break\n",
    "    print(datetime.now().strftime('%Y%m%d-%H:%M:%S') + \" status: \" + status)\n",
    "    time.sleep(60)\n",
    "print(\"Endpoint:\", endpoint_name, status)"
   ]
  },
  {
   "cell_type": "markdown",
   "metadata": {},
   "source": [
    "## 4. Test\n",
    "\n",
    "You can invoke your model with SageMaker runtime."
   ]
  },
  {
   "cell_type": "code",
   "execution_count": null,
   "metadata": {
    "tags": []
   },
   "outputs": [],
   "source": [
    "messages = [{\n",
    "    \"role\": \"user\",\n",
    "    \"content\": \"Hi, who are you!\"\n",
    "}]\n",
    "\n",
    "max_tokens = 4096"
   ]
  },
  {
   "cell_type": "markdown",
   "metadata": {},
   "source": [
    "### 4.1 Message api non-stream mode"
   ]
  },
  {
   "cell_type": "code",
   "execution_count": null,
   "metadata": {
    "tags": []
   },
   "outputs": [],
   "source": [
    "sagemaker_runtime = boto3.client('runtime.sagemaker')\n",
    "\n",
    "payload = {\n",
    "    \"model\": MODEL_ID,\n",
    "    \"messages\": messages,\n",
    "    \"max_tokens\": max_tokens,\n",
    "    \"stream\": False\n",
    "}\n",
    "response = sagemaker_runtime.invoke_endpoint(\n",
    "    EndpointName=endpoint_name,\n",
    "    ContentType='application/json',\n",
    "    Body=json.dumps(payload)\n",
    ")\n",
    "\n",
    "print(json.loads(response['Body'].read())[\"choices\"][0][\"message\"][\"content\"])"
   ]
  },
  {
   "cell_type": "markdown",
   "metadata": {
    "tags": []
   },
   "source": [
    "### 4.2 Message api stream mode"
   ]
  },
  {
   "cell_type": "code",
   "execution_count": null,
   "metadata": {
    "scrolled": true,
    "tags": []
   },
   "outputs": [],
   "source": [
    "payload = {\n",
    "    \"model\": MODEL_ID,\n",
    "    \"messages\": messages,\n",
    "    \"max_tokens\": max_tokens,\n",
    "    \"stream\": True\n",
    "}\n",
    "\n",
    "response = sagemaker_runtime.invoke_endpoint_with_response_stream(\n",
    "    EndpointName=endpoint_name,\n",
    "    ContentType='application/json',\n",
    "    Body=json.dumps(payload)\n",
    ")\n",
    "\n",
    "buffer = \"\"\n",
    "for t in response['Body']:\n",
    "    buffer += t[\"PayloadPart\"][\"Bytes\"].decode()\n",
    "    last_idx = 0\n",
    "    for match in re.finditer(r'(^|\\n)data:\\s*(\\{.+?\\})\\n', buffer):\n",
    "        try:\n",
    "            data = json.loads(match.group(2).strip())\n",
    "            last_idx = match.span()[1]\n",
    "            if data[\"choices\"][0][\"delta\"].get(\"reasoning\", None):\n",
    "                print(data[\"choices\"][0][\"delta\"][\"reasoning\"], end=\"\", flush=True)\n",
    "            if data[\"choices\"][0][\"delta\"].get(\"reasoning_content\", None):\n",
    "                print(data[\"choices\"][0][\"delta\"][\"reasoning_content\"], end=\"\", flush=True)\n",
    "            if data[\"choices\"][0][\"delta\"].get(\"content\", None):\n",
    "                print(data[\"choices\"][0][\"delta\"][\"content\"], end=\"\", flush=True)\n",
    "        except (json.JSONDecodeError, KeyError, IndexError) as e:\n",
    "            pass\n",
    "    buffer = buffer[last_idx:]\n",
    "print()"
   ]
  },
  {
   "cell_type": "markdown",
   "metadata": {},
   "source": [
    "### 4.3 Speed test"
   ]
  },
  {
   "cell_type": "code",
   "execution_count": null,
   "metadata": {
    "tags": []
   },
   "outputs": [],
   "source": [
    "sagemaker_runtime = boto3.client('runtime.sagemaker')\n",
    "\n",
    "messages = [{\n",
    "    \"role\": \"user\",\n",
    "    \"content\": \"write a poem about Shanghai\"\n",
    "}]\n",
    "\n",
    "payload = {\n",
    "    \"model\": MODEL_ID,\n",
    "    \"messages\": messages,\n",
    "    \"max_tokens\": 4096,\n",
    "    \"temperature\": 0.0,\n",
    "    \"stream\": True,\n",
    "    \"stream_options\": {\"include_usage\": True},\n",
    "}\n",
    "\n",
    "time_start = time.time()\n",
    "\n",
    "response = sagemaker_runtime.invoke_endpoint_with_response_stream(\n",
    "    EndpointName=endpoint_name,\n",
    "    ContentType='application/json',\n",
    "    Body=json.dumps(payload)\n",
    ")\n",
    "buffer = \"\"\n",
    "bytes_buffer = b\"\"\n",
    "first_token_latency = 0\n",
    "for t in response['Body']:\n",
    "    try:\n",
    "        buffer += (bytes_buffer + t[\"PayloadPart\"][\"Bytes\"]).decode()\n",
    "        bytes_buffer = b\"\"\n",
    "    except UnicodeDecodeError:\n",
    "        bytes_buffer += t[\"PayloadPart\"][\"Bytes\"]\n",
    "    last_idx = 0\n",
    "    for match in re.finditer(r'(^|\\n)data:\\s*(\\{.+?\\})\\n', buffer):\n",
    "        try:\n",
    "            data = json.loads(match.group(2).strip())\n",
    "            last_idx = match.span()[1]\n",
    "            if \"usage\" in data and data[\"usage\"] is not None:\n",
    "                input_tokens = data[\"usage\"][\"prompt_tokens\"]\n",
    "                output_tokens = data[\"usage\"][\"completion_tokens\"]\n",
    "            elif data[\"choices\"][0][\"delta\"].get(\"reasoning\", None):\n",
    "                if first_token_latency == 0:\n",
    "                    first_token_latency = time.time() - time_start\n",
    "                print(data[\"choices\"][0][\"delta\"][\"reasoning\"], end=\"\", flush=True)\n",
    "            elif data[\"choices\"][0][\"delta\"].get(\"reasoning_content\", None):\n",
    "                if first_token_latency == 0:\n",
    "                    first_token_latency = time.time() - time_start\n",
    "                print(data[\"choices\"][0][\"delta\"][\"reasoning_content\"], end=\"\", flush=True)\n",
    "            elif data[\"choices\"][0][\"delta\"].get(\"content\", None):\n",
    "                if first_token_latency == 0:\n",
    "                    first_token_latency = time.time() - time_start\n",
    "                print(data[\"choices\"][0][\"delta\"][\"content\"], end=\"\", flush=True)\n",
    "            else:\n",
    "                pass\n",
    "        except (json.JSONDecodeError, KeyError, IndexError) as e:\n",
    "            # print(data)\n",
    "            pass\n",
    "    buffer = buffer[last_idx:]\n",
    "print()\n",
    "\n",
    "total_time = time.time() - time_start\n",
    "\n",
    "print(\"\\n\" + \"=\" * 50)\n",
    "print(\"Input_tokens\", input_tokens, \"Output_tokens\", output_tokens)\n",
    "print(f\"First token latency {first_token_latency:.3} seconds\")\n",
    "print(f\"Total latency {total_time:.3} seconds\")\n",
    "print(f\"Output speed {output_tokens/(total_time-first_token_latency):.3} tokens/seconds\")\n",
    "print(\"=\" * 50)"
   ]
  },
  {
   "cell_type": "markdown",
   "metadata": {},
   "source": [
    "## 5. Clean"
   ]
  },
  {
   "cell_type": "markdown",
   "metadata": {},
   "source": [
    "You could delete files using these functions."
   ]
  },
  {
   "cell_type": "code",
   "execution_count": null,
   "metadata": {},
   "outputs": [],
   "source": [
    "def delete_endpoint(endpoint_name):\n",
    "    try:\n",
    "        sagemaker_client.delete_endpoint(EndpointName=endpoint_name)\n",
    "        print(f\"Endpoint '{endpoint_name}' deletion initiated.\")\n",
    "\n",
    "        # Wait for the endpoint to be deleted\n",
    "        while True:\n",
    "            try:\n",
    "                sagemaker_client.describe_endpoint(EndpointName=endpoint_name)\n",
    "                print(\"Waiting for endpoint to be deleted...\")\n",
    "                time.sleep(30)\n",
    "            except sagemaker_client.exceptions.ClientError:\n",
    "                print(f\"Endpoint '{endpoint_name}' has been deleted.\")\n",
    "                break\n",
    "    except sagemaker_client.exceptions.ClientError as e:\n",
    "        print(f\"Error deleting endpoint: {e}\")\n",
    "\n",
    "def delete_endpoint_config(endpoint_config_name):\n",
    "    try:\n",
    "        sagemaker_client.delete_endpoint_config(EndpointConfigName=endpoint_config_name)\n",
    "        print(f\"Endpoint configuration '{endpoint_config_name}' has been deleted.\")\n",
    "    except sagemaker_client.exceptions.ClientError as e:\n",
    "        print(f\"Error deleting endpoint configuration: {e}\")\n",
    "\n",
    "def delete_model(model_name):\n",
    "    try:\n",
    "        sagemaker_client.delete_model(ModelName=model_name)\n",
    "        print(f\"Model '{model_name}' has been deleted.\")\n",
    "    except sagemaker_client.exceptions.ClientError as e:\n",
    "        print(f\"Error deleting model: {e}\")\n",
    "\n",
    "        \n",
    "# delete_endpoint(endpoint_name)\n",
    "\n",
    "# delete_endpoint_config(endpoint_config_name)\n",
    "\n",
    "# delete_model(endpoint_model_name)"
   ]
  }
 ],
 "metadata": {
  "kernelspec": {
   "display_name": "Python 3 (ipykernel)",
   "language": "python",
   "name": "python3"
  },
  "language_info": {
   "codemirror_mode": {
    "name": "ipython",
    "version": 3
   },
   "file_extension": ".py",
   "mimetype": "text/x-python",
   "name": "python",
   "nbconvert_exporter": "python",
   "pygments_lexer": "ipython3",
   "version": "3.12.9"
  }
 },
 "nbformat": 4,
 "nbformat_minor": 4
}
