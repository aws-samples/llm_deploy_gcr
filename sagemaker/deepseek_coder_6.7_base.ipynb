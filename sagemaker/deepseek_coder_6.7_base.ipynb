{
 "cells": [
  {
   "cell_type": "markdown",
   "id": "71a329f0",
   "metadata": {},
   "source": [
    "# deepseek-ai/deepseek-coder-6.7b-base LMI deployment guide\n",
    "In this tutorial, you will use LMI container from DLC to SageMaker and run inference with it.\n",
    "\n",
    "Please make sure the following permission granted before running the notebook:\n",
    "\n",
    "- S3 bucket push access\n",
    "- SageMaker access\n",
    "\n",
    "## Step 1: Let's bump up SageMaker and import stuff"
   ]
  },
  {
   "cell_type": "code",
   "execution_count": null,
   "id": "67fa3208",
   "metadata": {
    "tags": []
   },
   "outputs": [],
   "source": [
    "%pip install sagemaker --upgrade  --quiet\n",
    "%pip install boto3"
   ]
  },
  {
   "cell_type": "code",
   "execution_count": null,
   "id": "87345ad6-cbe9-4cf5-af27-fdcf12ed683c",
   "metadata": {
    "tags": []
   },
   "outputs": [],
   "source": [
    "%pip show sagemaker"
   ]
  },
  {
   "cell_type": "code",
   "execution_count": null,
   "id": "ec9ac353",
   "metadata": {
    "tags": []
   },
   "outputs": [],
   "source": [
    "import boto3\n",
    "import sagemaker\n",
    "from sagemaker import Model, image_uris, serializers, deserializers\n",
    "\n",
    "role = sagemaker.get_execution_role()  # execution role for the endpoint\n",
    "sess = sagemaker.session.Session()  # sagemaker session for interacting with different AWS APIs\n",
    "region = sess._region_name  # region name of the current SageMaker Studio environment\n",
    "account_id = sess.account_id()  # account_id of the current SageMaker Studio environment\n",
    "sagemaker_default_bucket = sess.default_bucket()"
   ]
  },
  {
   "cell_type": "markdown",
   "id": "81deac79",
   "metadata": {},
   "source": [
    "## Step 2: Start preparing model artifacts\n",
    "In LMI contianer, we expect some artifacts to help setting up the model\n",
    "- serving.properties (required): Defines the model server settings\n",
    "- model.py (optional): A python file to define the core inference logic\n",
    "- requirements.txt (optional): Any additional pip wheel need to install"
   ]
  },
  {
   "cell_type": "code",
   "execution_count": null,
   "id": "15693902-6bd9-4af5-b0e4-6a289fdfb097",
   "metadata": {
    "tags": []
   },
   "outputs": [],
   "source": [
    "model_name=\"deepseek-ai/deepseek-coder-6.7b-base\"\n",
    "model_lineage=model_name.split(\"/\")[0]\n",
    "model_specific_name = model_name.split(\"/\")[1]\n",
    "cmd=f's/option.model_id=model_name/option.model_id={model_lineage}\\/{model_specific_name}/g'\n",
    "print(cmd)"
   ]
  },
  {
   "cell_type": "markdown",
   "id": "57b502ec-92a1-493c-b24f-3511824e56fa",
   "metadata": {},
   "source": [
    "#### Option1(Global region)\n",
    "\n",
    "- It's better to pre-download the model and upload it to S3, then use the s3url for deployment."
   ]
  },
  {
   "cell_type": "code",
   "execution_count": null,
   "id": "b011bf5f",
   "metadata": {
    "tags": []
   },
   "outputs": [],
   "source": [
    "\n",
    "with open(\"serving.properties\", \"w\") as wf:\n",
    "    wf.write(\"engine=Python\\n\")\n",
    "    wf.write(f\"option.model_id={model_name}\\n\")\n",
    "    wf.write(\"option.rolling_batch=vllm\\n\")\n",
    "    wf.write(\"option.max_model_len=2048\\n\")"
   ]
  },
  {
   "cell_type": "markdown",
   "id": "0080b713",
   "metadata": {},
   "source": [
    "#### Option2(China region)\n",
    "\n",
    "1. Download model from Hugging face\n",
    "2. Upload model to S3 Bucket\n",
    "3. Write serving.properties using s3url"
   ]
  },
  {
   "cell_type": "code",
   "execution_count": null,
   "id": "2685e1be-da91-46da-a6cc-c2345351bebe",
   "metadata": {},
   "outputs": [],
   "source": [
    "!pip install -U huggingface_hub"
   ]
  },
  {
   "cell_type": "code",
   "execution_count": null,
   "id": "4a8020ef-0b44-4b41-8e64-1a74fc9fcd73",
   "metadata": {},
   "outputs": [],
   "source": [
    "import os\n",
    "from pathlib import Path\n",
    "\n",
    "os.environ['HF_ENDPOINT'] = 'https://hf-mirror.com'\n",
    "\n",
    "# local_model_path_name = \"Qwen2-72B-Instruct\"\n",
    "local_model_path = Path(model_specific_name)\n",
    "local_model_path.mkdir(exist_ok=True)\n",
    "\n",
    "s3_model_prefix = f\"lmi/{model_specific_name}\"\n",
    "s3url=f\"s3://{sagemaker_default_bucket}/{s3_model_prefix}\""
   ]
  },
  {
   "cell_type": "code",
   "execution_count": null,
   "id": "901970e2-3d93-412c-9899-f45ebca9d371",
   "metadata": {},
   "outputs": [],
   "source": [
    "!huggingface-cli download --resume-download {model_name} --local-dir {local_model_path}"
   ]
  },
  {
   "cell_type": "code",
   "execution_count": null,
   "id": "2138878c-58a1-47b0-a0cc-cc69cc1c6f0b",
   "metadata": {},
   "outputs": [],
   "source": [
    "# Upload model to S3\n",
    "!aws s3 cp {local_model_path} {s3url} --recursive"
   ]
  },
  {
   "cell_type": "code",
   "execution_count": null,
   "id": "f3434213-7316-435b-9742-8c44f3d9adbc",
   "metadata": {},
   "outputs": [],
   "source": [
    "with open(\"serving.properties\", \"w\") as wf:\n",
    "    wf.write(\"engine=Python\\n\")\n",
    "    wf.write(f\"option.model_id={s3url}\\n\")\n",
    "    wf.write(\"option.rolling_batch=vllm\\n\")\n",
    "    wf.write(\"option.max_model_len=2048\\n\")"
   ]
  },
  {
   "cell_type": "markdown",
   "id": "6bbc1835",
   "metadata": {},
   "source": [
    "### Compress model artifacts"
   ]
  },
  {
   "cell_type": "code",
   "execution_count": null,
   "id": "b0142973",
   "metadata": {
    "tags": []
   },
   "outputs": [],
   "source": [
    "%%sh\n",
    "mkdir mymodel\n",
    "mv serving.properties mymodel/\n",
    "tar czvf mymodel.tar.gz mymodel/\n",
    "rm -rf mymodel"
   ]
  },
  {
   "cell_type": "markdown",
   "id": "2e58cf33",
   "metadata": {},
   "source": [
    "## Step 3: Start building SageMaker endpoint\n",
    "In this step, we will build SageMaker endpoint from scratch"
   ]
  },
  {
   "cell_type": "markdown",
   "id": "4d955679",
   "metadata": {},
   "source": [
    "### Getting the container image URI\n",
    "\n",
    "[Large Model Inference available DLC](https://github.com/aws/deep-learning-containers/blob/master/available_images.md#large-model-inference-containers)\n"
   ]
  },
  {
   "cell_type": "code",
   "execution_count": null,
   "id": "7a174b36",
   "metadata": {
    "tags": []
   },
   "outputs": [],
   "source": [
    "image_uri = image_uris.retrieve(\n",
    "        framework=\"djl-lmi\",\n",
    "        region=sess.boto_session.region_name,\n",
    "        version=\"v0.28.0\"\n",
    "    )"
   ]
  },
  {
   "cell_type": "markdown",
   "id": "11601839",
   "metadata": {},
   "source": [
    "### Upload artifact on S3 and create SageMaker model"
   ]
  },
  {
   "cell_type": "code",
   "execution_count": null,
   "id": "38b1e5ca",
   "metadata": {
    "tags": []
   },
   "outputs": [],
   "source": [
    "s3_code_prefix = f\"large-model-lmi/code-{model_lineage}-{model_specific_name}\"\n",
    "bucket = sess.default_bucket()  # bucket to house artifacts\n",
    "code_artifact = sess.upload_data(\"mymodel.tar.gz\", bucket, s3_code_prefix)\n",
    "print(f\"S3 Code or Model tar ball uploaded to --- > {code_artifact}\")\n",
    "\n",
    "model = Model(image_uri=image_uri, model_data=code_artifact, role=role)"
   ]
  },
  {
   "cell_type": "markdown",
   "id": "004f39f6",
   "metadata": {},
   "source": [
    "## Step4: Create SageMaker endpoint\n",
    "\n",
    "You need to specify the instance to use and endpoint names"
   ]
  },
  {
   "cell_type": "code",
   "execution_count": null,
   "id": "8e0e61cd",
   "metadata": {
    "tags": []
   },
   "outputs": [],
   "source": [
    "instance_type = \"ml.g5.2xlarge\"\n",
    "endpoint_name = sagemaker.utils.name_from_base(f\"{model_lineage}-{model_specific_name.replace('.','-')}\")\n",
    "\n",
    "model.deploy(initial_instance_count=1,\n",
    "             instance_type=instance_type,\n",
    "             endpoint_name=endpoint_name,\n",
    "             # container_startup_health_check_timeout=3600\n",
    "            )\n",
    "\n",
    "# our requests and responses will be in json format so we specify the serializer and the deserializer\n",
    "predictor = sagemaker.Predictor(\n",
    "    endpoint_name=endpoint_name,\n",
    "    sagemaker_session=sess,\n",
    "    serializer=serializers.JSONSerializer(),\n",
    "    deserializer=sagemaker.deserializers.JSONDeserializer(),\n",
    ")"
   ]
  },
  {
   "cell_type": "markdown",
   "id": "bb63ee65",
   "metadata": {},
   "source": [
    "## Step 5: Test and benchmark the inference"
   ]
  },
  {
   "cell_type": "markdown",
   "id": "8bc4163c-628c-468b-acdc-718af43d4746",
   "metadata": {},
   "source": [
    "### Standard schema\n",
    "Ref: https://docs.djl.ai/docs/serving/serving/docs/lmi/user_guides/lmi_input_output_schema.html"
   ]
  },
  {
   "cell_type": "code",
   "execution_count": null,
   "id": "4ee11ce2-c488-42c5-89eb-df453878c245",
   "metadata": {
    "collapsed": true,
    "jupyter": {
     "outputs_hidden": true
    },
    "tags": []
   },
   "outputs": [],
   "source": [
    "%pip install transformers -U"
   ]
  },
  {
   "cell_type": "code",
   "execution_count": null,
   "id": "2bcef095",
   "metadata": {
    "tags": []
   },
   "outputs": [],
   "source": [
    "prompt = \"帮我写一段快排代码\"\n",
    "\n",
    "parameters = {\n",
    "        \"max_new_tokens\":1024, \n",
    "        \"do_sample\": True,\n",
    "    }\n",
    "response = predictor.predict(\n",
    "    {\"inputs\": prompt, \"parameters\": parameters}\n",
    ")\n",
    "# text = str(response, \"utf-8\")\n",
    "print(response)"
   ]
  },
  {
   "cell_type": "markdown",
   "id": "95732e49-db07-4de2-ae1d-8ed96e95f056",
   "metadata": {},
   "source": [
    "### Streaming"
   ]
  },
  {
   "cell_type": "code",
   "execution_count": null,
   "id": "11c67435-fc81-42ae-85c5-608a9eb0e366",
   "metadata": {
    "tags": []
   },
   "outputs": [],
   "source": [
    "import json\n",
    "import boto3\n",
    "\n",
    "smr_client = boto3.client(\"sagemaker-runtime\")"
   ]
  },
  {
   "cell_type": "code",
   "execution_count": null,
   "id": "2cae82c8-c390-4d70-ac18-f1d71c852727",
   "metadata": {
    "tags": []
   },
   "outputs": [],
   "source": [
    "import io\n",
    "import json\n",
    "\n",
    "class TokenIterator:\n",
    "    def __init__(self, stream):\n",
    "        self.byte_iterator = iter(stream)\n",
    "        self.buffer = io.BytesIO()\n",
    "        self.read_pos = 0\n",
    "\n",
    "    def __iter__(self):\n",
    "        return self\n",
    "\n",
    "    def __next__(self):\n",
    "        while True:\n",
    "            self.buffer.seek(self.read_pos)\n",
    "            line = self.buffer.readline()\n",
    "\n",
    "            # print(line)\n",
    "            if line and line[-1] == ord(\"\\n\"):\n",
    "                self.read_pos += len(line)\n",
    "                full_line = line[:-1].decode(\"utf-8\")\n",
    "                # print(full_line)\n",
    "                line_data = json.loads(full_line.lstrip(\"data:\").rstrip(\"/n\"))\n",
    "                return line_data[\"token\"].get(\"text\", \"\")\n",
    "            chunk = next(self.byte_iterator)\n",
    "            self.buffer.seek(0, io.SEEK_END)\n",
    "            self.buffer.write(chunk[\"PayloadPart\"][\"Bytes\"])\n",
    "\n",
    "\n",
    "def get_realtime_response_stream(sagemaker_runtime, endpoint_name, payload):\n",
    "    response_stream = sagemaker_runtime.invoke_endpoint_with_response_stream(\n",
    "        EndpointName=endpoint_name,\n",
    "        Body=json.dumps(payload),\n",
    "        ContentType=\"application/json\",\n",
    "        CustomAttributes='accept_eula=false'\n",
    "    )\n",
    "    return response_stream"
   ]
  },
  {
   "cell_type": "markdown",
   "id": "68eb2a3a-eba2-4ba1-89e2-9baff146134e",
   "metadata": {},
   "source": [
    "#### Standard schema streaming "
   ]
  },
  {
   "cell_type": "code",
   "execution_count": null,
   "id": "c16918d8-35d9-4b56-ad50-73f7ab858a1e",
   "metadata": {
    "tags": []
   },
   "outputs": [],
   "source": [
    "prompt = \"帮我写一段快排代码\"\n",
    "parameters = {\n",
    "        \"max_new_tokens\":1024, \n",
    "        \"do_sample\": True,\n",
    "    }\n",
    "\n",
    "payload = {\n",
    "    \"inputs\":  prompt,\n",
    "    \"parameters\": parameters,\n",
    "    \"stream\": True ## <-- to have response stream.\n",
    "}\n",
    "response_stream = get_realtime_response_stream(smr_client, endpoint_name, payload)\n",
    "# print_response_stream(response_stream)\n",
    "for token in TokenIterator(response_stream[\"Body\"]):\n",
    "    # pass\n",
    "    print(token, end=\"\", flash=True)"
   ]
  },
  {
   "cell_type": "markdown",
   "id": "c1cd9042",
   "metadata": {},
   "source": [
    "## Clean up the environment"
   ]
  },
  {
   "cell_type": "code",
   "execution_count": null,
   "id": "3d674b41",
   "metadata": {
    "tags": []
   },
   "outputs": [],
   "source": [
    "sess.delete_endpoint(endpoint_name)\n",
    "sess.delete_endpoint_config(endpoint_name)\n",
    "model.delete_model()"
   ]
  }
 ],
 "metadata": {
  "kernelspec": {
   "display_name": "conda_pytorch_p310",
   "language": "python",
   "name": "conda_pytorch_p310"
  },
  "language_info": {
   "codemirror_mode": {
    "name": "ipython",
    "version": 3
   },
   "file_extension": ".py",
   "mimetype": "text/x-python",
   "name": "python",
   "nbconvert_exporter": "python",
   "pygments_lexer": "ipython3",
   "version": "3.10.14"
  }
 },
 "nbformat": 4,
 "nbformat_minor": 5
}
