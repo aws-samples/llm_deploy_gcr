{
 "cells": [
  {
   "cell_type": "code",
   "execution_count": null,
   "metadata": {},
   "outputs": [],
   "source": [
    "!pip install boto3 transformers"
   ]
  },
  {
   "cell_type": "code",
   "execution_count": 1,
   "metadata": {},
   "outputs": [
    {
     "name": "stdout",
     "output_type": "stream",
     "text": [
      "Name: boto3\n",
      "Version: 1.36.23\n",
      "Summary: The AWS SDK for Python\n",
      "Home-page: https://github.com/boto/boto3\n",
      "Author: Amazon Web Services\n",
      "Author-email: \n",
      "License: Apache License 2.0\n",
      "Location: /Users/xiaoqunn/anaconda3/envs/chatbottest/lib/python3.10/site-packages\n",
      "Requires: botocore, jmespath, s3transfer\n",
      "Required-by: sagemaker, sagemaker-core\n"
     ]
    }
   ],
   "source": [
    "!pip show boto3"
   ]
  },
  {
   "cell_type": "code",
   "execution_count": null,
   "metadata": {},
   "outputs": [],
   "source": []
  },
  {
   "cell_type": "code",
   "execution_count": 2,
   "metadata": {},
   "outputs": [
    {
     "name": "stderr",
     "output_type": "stream",
     "text": [
      "/Users/xiaoqunn/anaconda3/envs/chatbottest/lib/python3.10/site-packages/tqdm/auto.py:21: TqdmWarning: IProgress not found. Please update jupyter and ipywidgets. See https://ipywidgets.readthedocs.io/en/stable/user_install.html\n",
      "  from .autonotebook import tqdm as notebook_tqdm\n"
     ]
    }
   ],
   "source": [
    "import boto3\n",
    "import json\n",
    "from botocore.exceptions import ClientError\n",
    "\n",
    "from transformers import AutoTokenizer\n",
    "\n",
    "# 需要按照实际部署的模型，修改对应 的model name\n",
    "tokenizer = AutoTokenizer.from_pretrained(\"deepseek-ai/DeepSeek-R1-Distill-Qwen-32B\")"
   ]
  },
  {
   "cell_type": "code",
   "execution_count": null,
   "metadata": {},
   "outputs": [
    {
     "name": "stdout",
     "output_type": "stream",
     "text": [
      "{'generated_text': \"<｜begin_of_sentence｜><｜User｜> Hi <｜Assistant｜><think>\\nOkay, so I'm trying to figure\"}\n",
      "<｜begin_of_sentence｜><｜User｜> Hi <｜Assistant｜><think>\n",
      "Okay, so I'm trying to figure\n"
     ]
    }
   ],
   "source": [
    "# 注意将 model_arn 的值改成部署自己部署在bedrock的 model arn\n",
    "model_arn = \"Your model arn\"\n",
    "client = boto3.client(service_name=\"bedrock-runtime\", region_name=\"us-east-1\")\n",
    "prompt = \"\"\"<｜begin_of_sentence｜><｜User｜> Hi <｜Assistant｜>\"\"\"\n",
    "\n",
    "# Or Use model tokenizer chat template\n",
    "# prompt = \"帮我写一段快排代码\"\n",
    "# messages = [\n",
    "#     {\"role\": \"user\", \"content\": prompt}\n",
    "# ]\n",
    "# prompt = tokenizer.apply_chat_template(\n",
    "#     messages,\n",
    "#     tokenize=False,\n",
    "#     add_generation_prompt=True,\n",
    "    \n",
    "# )\n",
    "\n",
    "parameters = {\n",
    "    \"temperature\": 0.6,\n",
    "    \"max_new_tokens\":10,\n",
    "    \"top_p\": 0.95,\n",
    "    \"details\": False,\n",
    "    \"return_full_text\": False,\n",
    "}\n",
    "payload = {\n",
    "    \"inputs\": prompt,\n",
    "    \"parameters\": parameters\n",
    "}\n",
    "body = json.dumps(payload)\n",
    "\n",
    "accept = 'application/json'\n",
    "contentType = 'application/json'\n",
    "\n",
    "response = client.invoke_model(body=body,modelId=model_arn, \n",
    "                               accept=accept,\n",
    "                               contentType=contentType)\n",
    "\n",
    "response_body = json.loads(response.get('body').read())\n",
    "\n",
    "print(response_body)\n",
    "print(response_body.get(\"generated_text\"))\n"
   ]
  },
  {
   "cell_type": "code",
   "execution_count": 25,
   "metadata": {},
   "outputs": [],
   "source": [
    "prompt = \"\"\"周杰伦（1979年1月18日—），台湾创作男歌手、演员、词曲作家及制作人。其音乐风行于大中华地区及全球各地的华人社群，并对华语乐坛产生重大影响，也是史上最具影响力及最著名的华语歌手之一[5][6][7]。另有“亚洲流行天王”之美誉[8][9]，曾担任四季《中国好声音》系列导师。\n",
    "\n",
    "自2000年周杰伦发行首张专辑《Jay》出道至今，多次获得华语乐坛重要的音乐奖项[10]，包括15座台湾金曲奖和2座MTV亚洲大奖[11]。2003年登上亚洲版《时代》杂志的封面，其后至今开展了8次世界巡演。2009年获美国CNN评选为亚洲最具影响力的25位人物之一[12]。2022年推出的专辑《最伟大的作品》，夺下国际唱片协会IFPI认证全球最畅销专辑冠军[13]。\n",
    "\n",
    "在音乐以外，周杰伦自从演出《头文字D》之后就开始了电影的事业，从此涉足各类的电影企划，并创立专属的唱片和经纪公司杰威尔音乐。\n",
    "早年\n",
    "\n",
    "周杰伦在台湾台北县林口乡[注 1]出生长大，为家中的独生子[14][15]。父亲周耀中任教于芦洲国中，教授生物；母亲叶惠美则是林口国中美术老师[16]。14岁时父母离异，由父亲担任监护人，年满18岁后选择与母亲共同生活[17]。周杰伦曾在台湾民视新闻台由胡婉玲主持的节目《台湾演义》专访中澄清《爸，我回来了》这首歌只是对社会上家暴现象的感慨，并非指涉父母间的状况；父亲的亲戚也曾质疑过他，因此还为特别向亲戚们澄清和道歉过[18]。\n",
    "\n",
    "周杰伦从小对音乐表现出浓厚的兴趣，3岁开始学习钢琴，并且喜欢模仿歌星、演员表演和变魔术。国小就读忠孝国小，国中时就读金华国中。14岁时父母因长年争执而决议离婚，使周杰伦的性情大受影响。国中热爱篮球，曾参加过篮球队。[19][20]高中就读于台北县私立淡江中学第一届音乐科[注 2]主修钢琴，为将来的音乐发展打下了深厚的基础[21]。但学科成绩不甚理想，故高中毕业时，大学联考落榜[22]。又因患有僵直性脊椎炎，依据台湾兵役制度得以免服义务兵役[23]。\n",
    "\n",
    "周杰伦曾表示少年时受到香港乐坛“四大天王”之一张学友的专辑《吻别》的影响，从而喜欢并开始专注于流行音乐[24]。另外也透露过，除了张学友以外，萧邦、李恕权与史帝夫·汪达也是他童年及成长时影响他很深的人：2005年的专辑更以《十一月的萧邦》为标题，2007年电影《不能说的秘密》的斗琴多处桥段和萧邦有关，示意对他致敬；李恕权每回出现在电视上，周杰伦便会在电视机面前模仿他；而史帝夫·汪达有一首《I Just Called to Say I love You》是他的婶婶曾在他叔父的葬礼中播放的歌曲。由于他的音乐基础扎实，令其在流行音乐创作方面如鱼得水。[25]\n",
    "音乐事业\n",
    "1997年—2001年: 《三暝三日》、《落雨声》\n",
    "\n",
    "周杰伦首次亮相幕前是在1997年8月，当时为高中同学参加TVBS-G的选秀节目《超级新人王》而担任钢琴伴奏。虽然同学歌唱未获奖，但该节目主持人吴宗宪却对周杰伦的乐谱作曲工整印象深刻，认为其有潜力进而签约发掘进入乐坛。吴宗宪非常肯定周杰伦的才华，让他专注作曲的历练后再出唱片。\n",
    "\n",
    "初期周杰伦虽写过多首歌曲，但仍有不少曲目由于其超时代的独特性未被他人采用而退稿，如刘德华《眼泪知道》和张惠妹《忍者》等。在此期间，吴宗宪对周杰伦大力支持，不仅在自己的唱片公司阿尔发音乐多数歌手的歌曲中采用他的创作歌曲，还让他登上自己的节目，并在节目中大力推荐。公司总监杨俊荣在偶然听到周杰伦《可爱女人》的旋律后大为赞赏，立马致电吴宗宪，并且帮助周杰伦开始实施唱片推出项目。而当专辑一经发出，周杰伦的歌曲很快变成当时非常流行且爆火的音乐，日后也成为了真正的亚洲巨星，他也曾在金曲奖颁奖典礼上说过：没有吴宗宪就没有周杰伦。1998年，周杰伦发表第一首创作歌曲《三暝三日》，由吴宗宪演唱。\n",
    "\n",
    "1999年的《落雨声》是周杰伦第一首卖出的歌，由江蕙演唱，也是第一次和方文山合作的知名作品。两人的合作作品最受青睐，无形中两人的合作形成一种绝佳的必胜“定律”[21]。\n",
    "2000年—2003年: 《Jay》、《范特西》、《八度空间》、《叶惠美》\n",
    "\n",
    "2000年在获得杨俊荣的推荐与推动下，阿尔法公司提供了新台币四千万元作为专辑筹备的部分资金，于当年11月发行周杰伦首张个人专辑《Jay》。此专辑有了别于市场的突破曲风，风格融合了R&B、Hip-Hop、古典和“中国风”[21]，初步创建了周杰伦“周式曲风”的歌手形象[21]。周杰伦除了为自己制作、辑印音乐专辑外，亦曾经替其它歌手作曲，如知名歌手S.H.E.、陈小春、刘德华等。\n",
    "\n",
    "2001年9月周杰伦发行个人第2张专辑《范特西》，专辑名称来自英文“fantasy”的音译[26]；凭借这张专辑周杰伦在2002年度台湾第13届金曲奖颁奖典礼中斩获“最佳作曲人奖”、“最佳专辑制作人奖”以及“最佳流行音乐演唱专辑奖”等五项大奖。[27]。\n",
    "\n",
    "2002年7月周杰伦发行个人第3张专辑《八度空间》；9月28日个人首次世界巡回演唱会“THE ONE”于台北市立体育场拉开帷幕。2003年7月，全亚洲超过50家电台定7月16日为“周杰伦日”，并同步首播其第4张个人新专辑《叶惠美》中的主打歌曲《以父之名》[28]，此后每张专辑必定有一首中国风的歌曲。\n",
    "2004年—2007年: 《七里香》、《11月的萧邦》、《依然范特西》、《我很忙》\n",
    "周杰伦参与2005年声援南亚慈善纪念演唱会\n",
    "\n",
    "2004年7月周杰伦发行个人第5张专辑《七里香》，并凭借该专辑首次获得世界音乐大奖“大中华区最畅销艺人”[29]；同时，根据国际唱片业协会IFPI的统计，专辑《七里香》销量位居年度世界第42位，[30]；同年以歌曲《龙拳》首次亮相中国《春节联欢晚会》。\n",
    "\n",
    "2005年11月周杰伦发行个人第6张音乐专辑《11月的萧邦》，自这张专辑周杰伦开始作为音乐总监，并尝试执导一些自己歌曲的MV。2006年9月周杰伦发行个人第7张音乐专辑《依然范特西》，专辑中的中国风歌曲《千里之外》请来老牌歌手费玉清一起合唱。\n",
    "\n",
    "2007年4月，由周杰伦与多年合作伙伴方文山、杨峻荣三人共同创办的杰威尔音乐成立；11月2日，发行个人第8张音乐专辑《我很忙》，11月24日周杰伦在中国大陆上海八万人体育场开展《2007世界巡回演唱会》，与此同时，周杰伦的《THE ONE》、《无与伦比》两次世界巡回演唱会已先后在美国康涅狄格州、洛杉矶、拉斯维加斯、加拿大、澳大利亚、日本东京、新加坡、马来西亚吉隆坡、泰国曼谷、香港、台湾、中国大陆等多个国家地区举办多场。\n",
    "2008年—2012年: 《魔杰座》、《跨时代》、《惊叹号》、《十二新作》\n",
    "\n",
    "2008年发行第9张专辑《魔杰座》，2月16日，在日本武道馆连开两场演唱会，成为继王菲之后第二位在武道馆开唱的华人歌手；9月，继艺人王菲、王力宏、张惠妹、金城武、F4后，成为美国有线电视新闻网CNN第六位专访的华人明星[31]；11月，凭借专辑《我很忙》获得在摩纳哥举办的世界音乐大奖所颁发的“大中华区最畅销艺人”奖，连续三届（2006年、2007年、2008年）获奖，打破之前歌神张学友两连冠的纪录，加上2004年，周杰伦已先后获得四次世界音乐大奖“大中华区最畅销艺人”奖。[32]。2009年7月，《2007世界巡回演唱会》进入尾声，其中澳大利亚站悉尼演唱会票房空降美国看板第二。\n",
    "\n",
    "2010年发行第10张专辑《跨时代》并于2010年6月11日在台北小巨蛋开展《超时代演唱会》。2011年2月，周杰伦与美国NBA篮球巨星科比为雪碧牌饮料拍摄广告，同时创作广告主题曲《天地一斗》，并邀科比出镜一同合拍MV，该歌曲于2011年2月21日在美国加州洛杉矶首发[33]。\n",
    "\n",
    "2011年11月11日发行第11张专辑《惊叹号》，专辑同名歌曲为主打单曲。2012年9月22日，周杰伦在新加坡F1（世界一级方程式锦标赛）赛道开唱。12月28日，周杰伦发行个人第12张全新专辑《十二新作》。2013年5月17日，周杰伦个人第四次世界巡回演唱会《魔天伦》在中国大陆上海奔驰文化中心启动。\n",
    "2014年—2019年: 《哎呦，不错哦》、《周杰伦的床边故事》、《等你下课》、《说好不哭》\n",
    "\n",
    "2014年12月26日，发行个人第13张音乐专辑《哎呦，不错哦》。2015年1月29日，周杰伦新婚后，中国好声音在自家微博透露周杰伦将成为《中国好声音》第四季导师[34]。6月2日，《中国好声音4》举行发布会，周杰伦透露由他领导的团队选手中，官方已决定保留一名席位参演正在筹备中的音乐歌舞剧，而周杰伦也将担任该片总导演。\n",
    "周杰伦于2016年出席第十届音乐盛典咪咕汇\n",
    "\n",
    "2016年6月24日，发行个人第14张音乐专辑《周杰伦的床边故事》。主打单曲《告白气球》连续六周位居位居中国告示牌Top 10音乐单曲榜第一名，总共夺得第一名八次。中国告示牌Top 10音乐单曲榜2017年终榜单第六名。\n",
    "\n",
    "2018年1月18日，为庆祝自己39岁的生日，特别花了7天的时间录制了一首单曲，歌名是《等你下课》，也是送给粉丝的礼物。《等你下课》连续四周位居中国告示牌Top 10音乐单曲榜第一。2018年5月15日正式首播单曲《不爱我就拉倒》。两首歌曲均入围中国告示牌Top 10音乐单曲榜2018年终榜单，分别位列第一名和第八名。\n",
    "\n",
    "2019年9月16日推出新单曲，歌名是《说好不哭》，并与五月天阿信合唱，上线Youtube2天观看突破到一千万人次数。2019年12月12日推出新单曲，歌名是《我是如此相信》，为电影《天·火》主题曲。\n",
    "2020年至今: 《最伟大的作品》、《圣诞星》\n",
    "\n",
    "2020年2月23日帮自己的偶像张学友作曲，由方文山作词，目的是为了希望能抚慰人心，共同抵抗新冠疫情。2020年6月12日出新单曲，歌名是《Mojito》，并预告接下来可能会有新专辑。2022年6月19日，在YouTube发布自己前往巴黎创作新专辑的幕后纪录片，在纪录片结尾用法文宣布将在7月15日发布新专辑[35]。同时有媒体爆料新专辑名字叫《最伟大的作品》[36]。7月6日，在YouTube和哔哩哔哩首发《最伟大的作品》MV[37][38]，该歌曲是同名专辑的第一首主打曲。九天后再发第二首主打曲 MV《还在流浪》[39][40]。\n",
    "\n",
    "2023年12月21日，在Youtube上首发《圣诞星》MV，是以圣诞节为背景的一首歌曲，仅仅13小时便已达到140万次的点阅率[41]。\n",
    "\n",
    "2025年1月9日，杰威尔音乐发布新MV《Six Degrees》[42],1月10日，派伟俊与周杰伦合作的歌曲《Six Degrees》正式发行，由派伟俊作曲，周杰伦和派伟俊共同填词。\n",
    "电影事业\n",
    "\n",
    "对于周杰伦而言，进入电影界是一个出乎意料的发展[43]，因为他的高中英语老师认为他不能够处理好面部表情。此后他还演了其他六部电影，客串了3部电影、导演一部影片和数十个MV。周杰伦曾经说过：“我因为音乐而生活”[44]，涉足电影业是因为他觉得自己需要一个新的挑战。而歌迷们担心的是，电影事业会对他的音乐生涯造成影响。周杰伦一再保证，电影是灵感的来源，不会分心。同时，他也意识到有必要平衡自己的事业[43][45][46]。\n",
    "2003年—2007年: 《头文字D》《满城尽带黄金甲》《不能说的·秘密》\n",
    "\n",
    "2003年，周杰伦客串一部电影《寻找周杰伦》的导演说，他强烈的个人风格不会让他成为一个好演员[47]。\n",
    "\n",
    "2005年6月23日，周杰伦的第一个电影角色是在《头文字D》中担任男主角，正式进入电影界，并凭借该电影一举获得香港电影金像奖，台湾电影金马奖双料最佳新演员奖[48][49]。这使他可以推出他的首部作品，并接触到日本的观众 [50]；这部电影是根据日本漫画头文字D改编，周杰伦扮演藤原拓海，一个安静地、很少表达自己的天才车手。有些评论家批评他的表演淡而无味[51]，而一些人认为他表现自然，但却是因为角色与本人相似而只是在演自己 [52][53]；他在《头文字D》的表现赢得了香港电影金像奖和金马奖的最佳新人奖[54][55]。\n",
    "\n",
    "2006年，周杰伦在他第二部电影《满城尽带黄金甲》中饰演二王子元杰，在电影中他试图表现中国的传统美德——“孝”，也是他个性的缩影。这一部在国际上发行的电影让北美观众首次看到周杰伦。中国大陆的电影评论家对他的表演的评论从“缺乏层次及张力” [56]到“未失水准”[57]，西方影评则认为其演技十分一般[58][59][60][61][62]。他在《满城尽带黄金甲》的表现被提名2007年第26届香港电影金像奖最佳男配角[63]。\n",
    "2008年，周杰伦出席《不能说的·秘密》在韩国的首映会\n",
    "\n",
    "2007年，周杰伦第一部自编自导自演的电影《不能说的·秘密》上映，电影里大部分的音乐也由周杰伦创作。2008年1月10日在韩国上映。\n",
    "2008年电影《功夫灌篮》记者会（左起：蔡卓妍、周杰伦、黄秋生）\n",
    "2008年—2013年: 《功夫灌篮》《青蜂侠》《天台爱情》\n",
    "\n",
    "2008年，周杰伦在《功夫灌篮》扮演一个功夫学校的天才学生。2009年，周杰伦与当代台湾名模林志玲合拍《刺陵》并担任男主角[64]。\n",
    "\n",
    "2011年，周杰伦在美国3D电影3D《青蜂侠》担任青蜂侠助手“Kato”的角色，是他在好莱坞的处女作，1月14日在全美正式上映，并于1月28日在台湾上映。[65][66]此外他的第二张专辑《范特西》里面的经典歌曲《双截棍》被采用为青蜂侠电影的片尾曲，在全球放送。[67]\n",
    "\n",
    "2013年7月11日在台湾、中国大陆、新加坡同步上映的《天台爱情》，是周杰伦继2007年《不能说的·秘密》后，构思整整六年后的第二部自编自导自演的电影作品，女主角为李心艾，同时该片也邀请到曾志伟、钟镇涛，柯有伦等众多圈内好友助阵。[68]周杰伦所属的台北新生命小组教会 （页面存档备份，存于互联网档案馆）舞团于7月10日在《天台爱情》首映会上演“天台爱情歌舞秀”，吸引众多媒体与民众注意，同时该片也受到了中国大陆知名导演张艺谋的好评。\n",
    "2014年—2016年: 《惊天魔盗团2》《一万公里的约定》《功夫熊猫3》\n",
    "\n",
    "2014年11月5日好莱坞电影《惊天魔盗团2》，在官方网站公布演员阵容，周杰伦继《青蜂侠》后再度参演好莱坞电影，已在2016年6月上映。他为该片制作片尾主题曲《Now You See Me》并收录于个人专辑。同时他的歌曲《公公偏头痛》与《鞋子特大号》也被导演放入电影中做为彩蛋[69]。\n",
    "\n",
    "2015年5月11日在台北举行记者会宣布担任电影《一万公里的约定》监制，由获康城影展肯定的华裔好莱坞新锐导演洪昇扬执导，预计2016年12月至隔年1月陆续于台湾、大陆与香港上映。\n",
    "\n",
    "2015年9月22日，周杰伦确认加盟《功夫熊猫3》的配音，而其角色为五位功夫大师之一的金猴。这也是周杰伦第二次参与配音（第一次是《十万个冷笑话》）据悉，电影于2016年上映。 \"\"\""
   ]
  },
  {
   "cell_type": "code",
   "execution_count": 26,
   "metadata": {},
   "outputs": [],
   "source": [
    "# prompt = \"帮我写一段快排代码\"\n",
    "messages = [\n",
    "    {\"role\": \"user\", \"content\": f\"根据以下周杰伦的人物介绍，帮我写一篇关于周杰伦的成长故事，要求2000个字。 {prompt}\"}\n",
    "]\n",
    "prompt = tokenizer.apply_chat_template(\n",
    "    messages,\n",
    "    tokenize=False,\n",
    "    add_generation_prompt=True,\n",
    "    \n",
    ")"
   ]
  },
  {
   "cell_type": "code",
   "execution_count": null,
   "metadata": {},
   "outputs": [
    {
     "name": "stdout",
     "output_type": "stream",
     "text": [
      "{'index': 1, 'token': {'id': 106287, 'text': '嗯', 'logprob': -0.6308594, 'special': False}, 'generated_text': None, 'details': None}\n",
      "{'index': 2, 'token': {'id': 3837, 'text': '，', 'logprob': 0.0, 'special': False}, 'generated_text': None, 'details': None}\n",
      "{'index': 3, 'token': {'id': 20002, 'text': '用户', 'logprob': 0.0, 'special': False}, 'generated_text': None, 'details': None}\n",
      "{'index': 4, 'token': {'id': 104029, 'text': '让我', 'logprob': -0.10021973, 'special': False}, 'generated_text': None, 'details': None}\n",
      "{'index': 5, 'token': {'id': 100345, 'text': '根据', 'logprob': -0.70947266, 'special': False}, 'generated_text': None, 'details': None}\n",
      "{'index': 6, 'token': {'id': 103008, 'text': '提供的', 'logprob': 0.0, 'special': False}, 'generated_text': None, 'details': None}\n",
      "{'index': 7, 'token': {'id': 40542, 'text': '周', 'logprob': 0.0, 'special': False}, 'generated_text': None, 'details': None}\n",
      "{'index': 8, 'token': {'id': 102028, 'text': '杰', 'logprob': 0.0, 'special': False}, 'generated_text': None, 'details': None}\n",
      "{'index': 9, 'token': {'id': 100794, 'text': '伦', 'logprob': 0.0, 'special': False}, 'generated_text': None, 'details': None}\n",
      "{'index': 10, 'token': {'id': 109624, 'text': '的人物', 'logprob': -0.08129883, 'special': False}, 'generated_text': '嗯，用户让我根据提供的周杰伦的人物', 'details': None, 'amazon-bedrock-invocationMetrics': {'inputTokenCount': 0, 'outputTokenCount': 0, 'invocationLatency': 595, 'firstByteLatency': 207}}\n"
     ]
    }
   ],
   "source": [
    "import boto3\n",
    "import json\n",
    "             \n",
    "model_arn = \"Your model arn\"\n",
    "client = boto3.client(service_name=\"bedrock-runtime\", region_name=\"us-east-1\")\n",
    "\n",
    "parameters = {\n",
    "    \"temperature\": 0.6,\n",
    "    \"max_new_tokens\":10,\n",
    "    \"top_p\": 0.95,\n",
    "    \"details\": False,\n",
    "    \"return_full_text\": False,\n",
    "}\n",
    "payload = {\n",
    "    \"inputs\": prompt,\n",
    "    \"parameters\": parameters\n",
    "}\n",
    "body = json.dumps(payload)\n",
    "response = client.invoke_model_with_response_stream(\n",
    "    modelId=model_arn, \n",
    "    body=body\n",
    ")\n",
    "\n",
    "text = \"\"\n",
    "stream = response.get('body')\n",
    "if stream:\n",
    "    for event in stream:\n",
    "        chunk = event.get('chunk')\n",
    "        if chunk:\n",
    "            print(json.loads(chunk.get('bytes').decode()))\n",
    "            text += json.loads(chunk.get('bytes').decode())[\"token\"][\"text\"]\n"
   ]
  },
  {
   "cell_type": "code",
   "execution_count": null,
   "metadata": {},
   "outputs": [],
   "source": []
  }
 ],
 "metadata": {
  "kernelspec": {
   "display_name": "chatbottest",
   "language": "python",
   "name": "python3"
  },
  "language_info": {
   "codemirror_mode": {
    "name": "ipython",
    "version": 3
   },
   "file_extension": ".py",
   "mimetype": "text/x-python",
   "name": "python",
   "nbconvert_exporter": "python",
   "pygments_lexer": "ipython3",
   "version": "3.10.13"
  }
 },
 "nbformat": 4,
 "nbformat_minor": 2
}
